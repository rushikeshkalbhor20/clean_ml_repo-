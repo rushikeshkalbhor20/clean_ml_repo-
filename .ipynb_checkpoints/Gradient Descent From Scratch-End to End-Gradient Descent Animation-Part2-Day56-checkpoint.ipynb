{
 "cells": [
  {
   "cell_type": "code",
   "execution_count": null,
   "id": "f5c5af12-6f4c-44b1-8b3f-3bd65e88a0c3",
   "metadata": {},
   "outputs": [],
   "source": [
    "Gradient Descent From Scratch-End to End-Gradient Descent Animation Part 3"
   ]
  },
  {
   "cell_type": "code",
   "execution_count": null,
   "id": "582c25d8-87ae-4387-9fb2-6d55fc902621",
   "metadata": {},
   "outputs": [],
   "source": []
  }
 ],
 "metadata": {
  "kernelspec": {
   "display_name": "Python 3 (ipykernel)",
   "language": "python",
   "name": "python3"
  },
  "language_info": {
   "codemirror_mode": {
    "name": "ipython",
    "version": 3
   },
   "file_extension": ".py",
   "mimetype": "text/x-python",
   "name": "python",
   "nbconvert_exporter": "python",
   "pygments_lexer": "ipython3",
   "version": "3.12.7"
  }
 },
 "nbformat": 4,
 "nbformat_minor": 5
}
