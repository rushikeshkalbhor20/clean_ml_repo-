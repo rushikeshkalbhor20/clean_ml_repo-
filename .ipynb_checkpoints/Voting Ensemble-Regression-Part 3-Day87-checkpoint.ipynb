{
 "cells": [
  {
   "cell_type": "raw",
   "id": "23d04d9b-feb8-47dc-8355-c8d3cfa44e24",
   "metadata": {},
   "source": [
    "Voting Ensemble-Regression-Part 3-Day87\n"
   ]
  },
  {
   "cell_type": "code",
   "execution_count": 16,
   "id": "5e7679b0-a8d7-4513-8c11-3e30ad1e2af8",
   "metadata": {},
   "outputs": [],
   "source": [
    "import numpy as np\n",
    "from sklearn.datasets import fetch_california_housing\n"
   ]
  },
  {
   "cell_type": "code",
   "execution_count": 18,
   "id": "2542c978-3572-4234-892e-39a711e736cc",
   "metadata": {},
   "outputs": [],
   "source": [
    "X,y = fetch_california_housing(return_X_y=True)\n"
   ]
  },
  {
   "cell_type": "code",
   "execution_count": 20,
   "id": "705b6ed7-4165-41b8-8a34-b7542de03604",
   "metadata": {},
   "outputs": [
    {
     "data": {
      "text/plain": [
       "(20640, 8)"
      ]
     },
     "execution_count": 20,
     "metadata": {},
     "output_type": "execute_result"
    }
   ],
   "source": [
    "X.shape\n"
   ]
  },
  {
   "cell_type": "code",
   "execution_count": 22,
   "id": "a3774726-8926-45f9-acd4-4a9c9ca1d10e",
   "metadata": {},
   "outputs": [
    {
     "data": {
      "text/plain": [
       "(20640,)"
      ]
     },
     "execution_count": 22,
     "metadata": {},
     "output_type": "execute_result"
    }
   ],
   "source": [
    "y.shape\n"
   ]
  },
  {
   "cell_type": "code",
   "execution_count": 24,
   "id": "f9180c13-40de-4bd0-b933-6612ff21523c",
   "metadata": {},
   "outputs": [
    {
     "data": {
      "text/plain": [
       "array([[   8.3252    ,   41.        ,    6.98412698, ...,    2.55555556,\n",
       "          37.88      , -122.23      ],\n",
       "       [   8.3014    ,   21.        ,    6.23813708, ...,    2.10984183,\n",
       "          37.86      , -122.22      ],\n",
       "       [   7.2574    ,   52.        ,    8.28813559, ...,    2.80225989,\n",
       "          37.85      , -122.24      ],\n",
       "       ...,\n",
       "       [   1.7       ,   17.        ,    5.20554273, ...,    2.3256351 ,\n",
       "          39.43      , -121.22      ],\n",
       "       [   1.8672    ,   18.        ,    5.32951289, ...,    2.12320917,\n",
       "          39.43      , -121.32      ],\n",
       "       [   2.3886    ,   16.        ,    5.25471698, ...,    2.61698113,\n",
       "          39.37      , -121.24      ]])"
      ]
     },
     "execution_count": 24,
     "metadata": {},
     "output_type": "execute_result"
    }
   ],
   "source": [
    "X\n"
   ]
  },
  {
   "cell_type": "code",
   "execution_count": 26,
   "id": "80fefb68-b885-4a52-a33e-9166267a0fd4",
   "metadata": {},
   "outputs": [],
   "source": [
    "from sklearn.linear_model import LinearRegression\n",
    "from sklearn.tree import DecisionTreeRegressor\n",
    "from sklearn.svm import SVR\n",
    "from sklearn.model_selection import cross_val_score"
   ]
  },
  {
   "cell_type": "code",
   "execution_count": 28,
   "id": "3a3da769-aded-4105-ae20-35d00e873161",
   "metadata": {},
   "outputs": [],
   "source": [
    "lr = LinearRegression()\n",
    "dt = DecisionTreeRegressor()\n",
    "svr = SVR()\n",
    "     \n"
   ]
  },
  {
   "cell_type": "code",
   "execution_count": 30,
   "id": "a1cb76e2-7e9d-4be8-8a60-22723243573d",
   "metadata": {},
   "outputs": [],
   "source": [
    "estimators = [('lr',lr),('dt',dt),('svr',svr)]\n"
   ]
  },
  {
   "cell_type": "code",
   "execution_count": 32,
   "id": "50677cd0-2031-44e2-b658-52e42593252a",
   "metadata": {},
   "outputs": [
    {
     "name": "stdout",
     "output_type": "stream",
     "text": [
      "lr 0.51\n",
      "dt 0.24\n",
      "svr -0.25\n"
     ]
    }
   ],
   "source": [
    "for estimator in estimators:\n",
    "  scores = cross_val_score(estimator[1],X,y,scoring='r2',cv=10)\n",
    "  print(estimator[0],np.round(np.mean(scores),2))"
   ]
  },
  {
   "cell_type": "code",
   "execution_count": 34,
   "id": "61ebdac7-24b9-499a-8407-6f226f972d87",
   "metadata": {},
   "outputs": [],
   "source": [
    "from sklearn.ensemble import VotingRegressor\n"
   ]
  },
  {
   "cell_type": "code",
   "execution_count": 36,
   "id": "ec37f599-6abc-43b4-845b-ce3313a83033",
   "metadata": {},
   "outputs": [
    {
     "name": "stdout",
     "output_type": "stream",
     "text": [
      "Voting Regressor 0.48\n"
     ]
    }
   ],
   "source": [
    "vr = VotingRegressor(estimators)\n",
    "scores = cross_val_score(vr,X,y,scoring='r2',cv=10)\n",
    "print(\"Voting Regressor\",np.round(np.mean(scores),2))"
   ]
  },
  {
   "cell_type": "code",
   "execution_count": null,
   "id": "c0ca18c1-5b2e-4afa-bb7e-8db982046de8",
   "metadata": {},
   "outputs": [],
   "source": [
    "for i in range(1,4):\n",
    "  for j in range(1,4):\n",
    "    for k in range(1,4):\n",
    "      vr = VotingRegressor(estimators,weights=[i,j,k])\n",
    "      scores = cross_val_score(vr,X,y,scoring='r2',cv=10)\n",
    "      print(\"For i={},j={},k={}\".format(i,j,k),np.round(np.mean(scores),2))"
   ]
  },
  {
   "cell_type": "code",
   "execution_count": null,
   "id": "8677850f-4f08-48f0-925f-d23fc47b24e1",
   "metadata": {},
   "outputs": [],
   "source": [
    "# using the same algorithm\n",
    "\n",
    "dt1 = DecisionTreeRegressor(max_depth=1)\n",
    "dt2 = DecisionTreeRegressor(max_depth=3)\n",
    "dt3 = DecisionTreeRegressor(max_depth=5)\n",
    "dt4 = DecisionTreeRegressor(max_depth=7)\n",
    "dt5 = DecisionTreeRegressor(max_depth=None)"
   ]
  },
  {
   "cell_type": "code",
   "execution_count": null,
   "id": "c943a5e3-9064-492a-8e33-27e959fefebe",
   "metadata": {},
   "outputs": [],
   "source": [
    "estimators = [('dt1',dt1),('dt2',dt2),('dt3',dt3),('dt4',dt4),('dt5',dt5)]\n"
   ]
  },
  {
   "cell_type": "code",
   "execution_count": null,
   "id": "522a62d8-6b3a-4a39-8b3a-319ec1add0d4",
   "metadata": {},
   "outputs": [],
   "source": [
    "for estimator in estimators:\n",
    "  scores = cross_val_score(estimator[1],X,y,scoring='r2',cv=10)\n",
    "  print(estimator[0],np.round(np.mean(scores),2))"
   ]
  },
  {
   "cell_type": "code",
   "execution_count": null,
   "id": "224e65f8-798b-4bbe-97ab-9e956f1a059b",
   "metadata": {},
   "outputs": [],
   "source": [
    "vr = VotingRegressor(estimators)\n",
    "scores = cross_val_score(vr,X,y,scoring='r2',cv=10)\n",
    "print(\"Voting Regressor\",np.round(np.mean(scores),2))"
   ]
  }
 ],
 "metadata": {
  "kernelspec": {
   "display_name": "Python 3 (ipykernel)",
   "language": "python",
   "name": "python3"
  },
  "language_info": {
   "codemirror_mode": {
    "name": "ipython",
    "version": 3
   },
   "file_extension": ".py",
   "mimetype": "text/x-python",
   "name": "python",
   "nbconvert_exporter": "python",
   "pygments_lexer": "ipython3",
   "version": "3.12.7"
  }
 },
 "nbformat": 4,
 "nbformat_minor": 5
}
