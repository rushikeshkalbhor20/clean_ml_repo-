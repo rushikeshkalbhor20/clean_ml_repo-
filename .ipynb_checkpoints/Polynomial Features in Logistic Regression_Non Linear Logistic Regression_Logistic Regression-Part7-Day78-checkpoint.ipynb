{
 "cells": [
  {
   "cell_type": "raw",
   "id": "9786cb30-34e8-4438-8a62-b6d6f1f3be19",
   "metadata": {},
   "source": [
    "Polynomial Features in Logistic Regression | Non Linear Logistic Regression | Logistic Regression 7\n"
   ]
  },
  {
   "cell_type": "raw",
   "id": "37d1533f-1852-4939-a4f8-71217b34c5ea",
   "metadata": {},
   "source": [
    "Polynomial Features in Logistic Regression_Non Linear Logistic Regression_Logistic Regression-Part7-Day78\n"
   ]
  },
  {
   "cell_type": "code",
   "execution_count": 1,
   "id": "57b22151-85ae-47b2-afdf-e5b840a54a7a",
   "metadata": {},
   "outputs": [],
   "source": [
    "import numpy as np\n",
    "import pandas as pd\n",
    "import matplotlib.pyplot as plt"
   ]
  },
  {
   "cell_type": "code",
   "execution_count": null,
   "id": "39d81b7f-3dc9-46bd-bbbc-d1251534f7a4",
   "metadata": {},
   "outputs": [],
   "source": [
    "df = pd.read_csv('ushape.csv')\n"
   ]
  },
  {
   "cell_type": "code",
   "execution_count": null,
   "id": "4bbe1c3c-86d0-4a76-af9b-4af8f994af85",
   "metadata": {},
   "outputs": [],
   "source": [
    "df.head()\n"
   ]
  },
  {
   "cell_type": "code",
   "execution_count": null,
   "id": "26dfad06-867c-4102-b6b7-0f9603120772",
   "metadata": {},
   "outputs": [],
   "source": [
    "X = df.iloc[:,0:2].values\n",
    "y = df.iloc[:,-1].values"
   ]
  },
  {
   "cell_type": "code",
   "execution_count": null,
   "id": "06a45380-9899-4a51-a9cc-e4e7561ad8c7",
   "metadata": {},
   "outputs": [],
   "source": [
    "plt.scatter(X[:,0],X[:,1],c=y)\n"
   ]
  },
  {
   "cell_type": "code",
   "execution_count": null,
   "id": "46bdf358-4a0e-42ea-8b46-ff31c9839d3e",
   "metadata": {},
   "outputs": [],
   "source": [
    "from sklearn.linear_model import LogisticRegression\n",
    "clf = LogisticRegression()"
   ]
  },
  {
   "cell_type": "code",
   "execution_count": null,
   "id": "f53bf5d8-289b-4ad5-a8bb-5303ca8312d2",
   "metadata": {},
   "outputs": [],
   "source": [
    "clf.fit(X,y)\n"
   ]
  },
  {
   "cell_type": "code",
   "execution_count": null,
   "id": "8cb3d1be-dc26-4ea6-a1a2-993359126b13",
   "metadata": {},
   "outputs": [],
   "source": [
    "from mlxtend.plotting import plot_decision_regions\n",
    "\n",
    "plot_decision_regions(X, y.astype('int'), clf, legend=2)"
   ]
  },
  {
   "cell_type": "code",
   "execution_count": null,
   "id": "d6ce8f67-5ed3-4e8e-ad22-f37e114ca544",
   "metadata": {},
   "outputs": [],
   "source": [
    "from sklearn.model_selection import cross_val_score\n",
    "np.mean(cross_val_score(clf,X,y,scoring='accuracy',cv=10))"
   ]
  },
  {
   "cell_type": "code",
   "execution_count": null,
   "id": "a6fc8f37-0d53-493b-a122-1ca7872df3fb",
   "metadata": {},
   "outputs": [],
   "source": [
    "from sklearn.preprocessing import PolynomialFeatures\n",
    "poly = PolynomialFeatures(degree=3,include_bias=False)\n",
    "X_trf = poly.fit_transform(X)"
   ]
  },
  {
   "cell_type": "code",
   "execution_count": null,
   "id": "d6e1d9a7-900d-473e-a95c-bc354da6b660",
   "metadata": {},
   "outputs": [],
   "source": [
    "clf1 = LogisticRegression()\n",
    "np.mean(cross_val_score(clf1,X_trf,y,scoring='accuracy',cv=10))"
   ]
  },
  {
   "cell_type": "code",
   "execution_count": null,
   "id": "5eb31cf3-0f32-46cd-a19f-3ceb472da0da",
   "metadata": {},
   "outputs": [],
   "source": [
    "def plot_decision_boundary(X,y,degree=1):\n",
    "    \n",
    "    poly = PolynomialFeatures(degree=degree)\n",
    "    X_trf = poly.fit_transform(X)\n",
    "    \n",
    "    clf = LogisticRegression()\n",
    "    clf.fit(X_trf,y)\n",
    "    \n",
    "    accuracy = np.mean(cross_val_score(clf,X_trf,y,scoring='accuracy',cv=10))\n",
    "    \n",
    "    a=np.arange(start=X[:,0].min()-1, stop=X[:,0].max()+1, step=0.01)\n",
    "    b=np.arange(start=X[:,1].min()-1, stop=X[:,1].max()+1, step=0.01)\n",
    "\n",
    "\n",
    "    XX,YY=np.meshgrid(a,b)\n",
    "    \n",
    "    input_array=np.array([XX.ravel(),YY.ravel()]).T\n",
    "\n",
    "    labels=clf.predict(poly.transform(input_array))\n",
    "    \n",
    "    plt.contourf(XX,YY,labels.reshape(XX.shape),alpha=0.5)\n",
    "    plt.scatter(X[:,0],X[:,1], c=y)\n",
    "    plt.title('Degree = {}, accuracy is {}'.format(degree,np.round(accuracy,4)))\n"
   ]
  },
  {
   "cell_type": "code",
   "execution_count": null,
   "id": "aa56cd2f-9023-44cc-88aa-3268215a6ec2",
   "metadata": {},
   "outputs": [],
   "source": [
    "plot_decision_boundary(X,y)\n"
   ]
  },
  {
   "cell_type": "code",
   "execution_count": null,
   "id": "9e4fbd50-7d8b-49f6-a91e-ed705d5f8211",
   "metadata": {},
   "outputs": [],
   "source": [
    "plot_decision_boundary(X,y,degree=2)\n"
   ]
  },
  {
   "cell_type": "code",
   "execution_count": null,
   "id": "d7d93d1e-4b5b-4994-9bce-2c943732fb5d",
   "metadata": {},
   "outputs": [],
   "source": [
    "plot_decision_boundary(X,y,degree=3)\n"
   ]
  }
 ],
 "metadata": {
  "kernelspec": {
   "display_name": "Python 3 (ipykernel)",
   "language": "python",
   "name": "python3"
  },
  "language_info": {
   "codemirror_mode": {
    "name": "ipython",
    "version": 3
   },
   "file_extension": ".py",
   "mimetype": "text/x-python",
   "name": "python",
   "nbconvert_exporter": "python",
   "pygments_lexer": "ipython3",
   "version": "3.12.7"
  }
 },
 "nbformat": 4,
 "nbformat_minor": 5
}
