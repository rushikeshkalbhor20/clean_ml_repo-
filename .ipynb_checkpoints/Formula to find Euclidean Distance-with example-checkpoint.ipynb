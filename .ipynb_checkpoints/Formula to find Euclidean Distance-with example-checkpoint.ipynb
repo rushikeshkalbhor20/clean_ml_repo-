{
 "cells": [
  {
   "cell_type": "code",
   "execution_count": null,
   "id": "45d0212c-af32-4b5a-a8bc-c91b4d06e104",
   "metadata": {},
   "outputs": [],
   "source": [
    "# this formula can be used for n num of eucildean distance\n",
    "# distances.append(np.sqrt(np.dot(row-centroid,row-centroid)))\n"
   ]
  },
  {
   "cell_type": "code",
   "execution_count": 5,
   "id": "85d01fcb-b9d5-4644-aff8-2fdcb2db58c1",
   "metadata": {},
   "outputs": [],
   "source": [
    "import numpy as np\n"
   ]
  },
  {
   "cell_type": "code",
   "execution_count": 7,
   "id": "7ec1ac94-0802-4d7e-8f8a-892c290e1c4b",
   "metadata": {},
   "outputs": [],
   "source": [
    "a = np.array([1,2,3])\n",
    "b = np.array([4,5,6])\n"
   ]
  },
  {
   "cell_type": "code",
   "execution_count": 9,
   "id": "1cb10f99-60f0-4fd5-9152-493481956861",
   "metadata": {},
   "outputs": [
    {
     "data": {
      "text/plain": [
       "5.196152422706632"
      ]
     },
     "execution_count": 9,
     "metadata": {},
     "output_type": "execute_result"
    }
   ],
   "source": [
    "np.sqrt(np.dot(b-a,b-a))"
   ]
  },
  {
   "cell_type": "code",
   "execution_count": null,
   "id": "5f2e877f-0f9d-47fe-afd9-d6d44a901d58",
   "metadata": {},
   "outputs": [],
   "source": []
  }
 ],
 "metadata": {
  "kernelspec": {
   "display_name": "Python 3 (ipykernel)",
   "language": "python",
   "name": "python3"
  },
  "language_info": {
   "codemirror_mode": {
    "name": "ipython",
    "version": 3
   },
   "file_extension": ".py",
   "mimetype": "text/x-python",
   "name": "python",
   "nbconvert_exporter": "python",
   "pygments_lexer": "ipython3",
   "version": "3.12.7"
  }
 },
 "nbformat": 4,
 "nbformat_minor": 5
}
