{
 "cells": [
  {
   "cell_type": "raw",
   "id": "bfecd5b4-5f29-490a-99d7-f0e63dda9b6c",
   "metadata": {},
   "source": [
    "Missing Indicator | Random Sample Imputation | Handling Missing Data Part 4\n"
   ]
  },
  {
   "cell_type": "raw",
   "id": "ced297d1-0286-4388-b9f9-e92f140a0bf3",
   "metadata": {},
   "source": [
    "Random Sample Imputation "
   ]
  },
  {
   "cell_type": "code",
   "execution_count": 1,
   "id": "f01ba259-4b83-46c9-9d90-1242eaf13542",
   "metadata": {},
   "outputs": [],
   "source": [
    "import numpy as np\n",
    "import pandas as pd\n",
    "\n",
    "from sklearn.model_selection import train_test_split\n",
    "\n",
    "import matplotlib.pyplot as plt\n",
    "import seaborn as sns"
   ]
  },
  {
   "cell_type": "code",
   "execution_count": 3,
   "id": "787ca01b-0451-40f1-9ac4-6cfe8578bbac",
   "metadata": {},
   "outputs": [],
   "source": [
    "df = pd.read_csv('C:/Users/HP/Desktop/100 Days Machine learning/Csv.files/train.csv',usecols=['Age','Fare','Survived'])\n"
   ]
  },
  {
   "cell_type": "code",
   "execution_count": 7,
   "id": "7b3ad7ab-131b-43a3-93d5-252eda974226",
   "metadata": {},
   "outputs": [
    {
     "data": {
      "text/html": [
       "<div>\n",
       "<style scoped>\n",
       "    .dataframe tbody tr th:only-of-type {\n",
       "        vertical-align: middle;\n",
       "    }\n",
       "\n",
       "    .dataframe tbody tr th {\n",
       "        vertical-align: top;\n",
       "    }\n",
       "\n",
       "    .dataframe thead th {\n",
       "        text-align: right;\n",
       "    }\n",
       "</style>\n",
       "<table border=\"1\" class=\"dataframe\">\n",
       "  <thead>\n",
       "    <tr style=\"text-align: right;\">\n",
       "      <th></th>\n",
       "      <th>Survived</th>\n",
       "      <th>Age</th>\n",
       "      <th>Fare</th>\n",
       "    </tr>\n",
       "  </thead>\n",
       "  <tbody>\n",
       "    <tr>\n",
       "      <th>0</th>\n",
       "      <td>0</td>\n",
       "      <td>22.0</td>\n",
       "      <td>7.2500</td>\n",
       "    </tr>\n",
       "    <tr>\n",
       "      <th>1</th>\n",
       "      <td>1</td>\n",
       "      <td>38.0</td>\n",
       "      <td>71.2833</td>\n",
       "    </tr>\n",
       "    <tr>\n",
       "      <th>2</th>\n",
       "      <td>1</td>\n",
       "      <td>26.0</td>\n",
       "      <td>7.9250</td>\n",
       "    </tr>\n",
       "    <tr>\n",
       "      <th>3</th>\n",
       "      <td>1</td>\n",
       "      <td>35.0</td>\n",
       "      <td>53.1000</td>\n",
       "    </tr>\n",
       "    <tr>\n",
       "      <th>4</th>\n",
       "      <td>0</td>\n",
       "      <td>35.0</td>\n",
       "      <td>8.0500</td>\n",
       "    </tr>\n",
       "  </tbody>\n",
       "</table>\n",
       "</div>"
      ],
      "text/plain": [
       "   Survived   Age     Fare\n",
       "0         0  22.0   7.2500\n",
       "1         1  38.0  71.2833\n",
       "2         1  26.0   7.9250\n",
       "3         1  35.0  53.1000\n",
       "4         0  35.0   8.0500"
      ]
     },
     "execution_count": 7,
     "metadata": {},
     "output_type": "execute_result"
    }
   ],
   "source": [
    "df.head()"
   ]
  },
  {
   "cell_type": "code",
   "execution_count": 13,
   "id": "8eae6072-34ee-4d4b-9d9a-d0ff2fdbbe81",
   "metadata": {},
   "outputs": [
    {
     "data": {
      "text/plain": [
       "Survived     0.000000\n",
       "Age         19.865320\n",
       "Fare         0.448934\n",
       "dtype: float64"
      ]
     },
     "execution_count": 13,
     "metadata": {},
     "output_type": "execute_result"
    }
   ],
   "source": [
    "df.isnull().mean() * 100"
   ]
  },
  {
   "cell_type": "code",
   "execution_count": 15,
   "id": "83a45a64-0976-4035-a82b-0f06eb5b9e74",
   "metadata": {},
   "outputs": [],
   "source": [
    "X = df.drop(columns=['Survived'])\n",
    "y = df['Survived']"
   ]
  },
  {
   "cell_type": "code",
   "execution_count": 17,
   "id": "fce108e2-ce01-430b-92e2-a164f50ba217",
   "metadata": {},
   "outputs": [],
   "source": [
    "X_train,X_test,y_train,y_test = train_test_split(X,y,test_size=0.2,random_state=2)\n"
   ]
  },
  {
   "cell_type": "code",
   "execution_count": 19,
   "id": "924b3d0c-040d-4d4d-b2df-c6555d4b32f4",
   "metadata": {},
   "outputs": [
    {
     "data": {
      "text/html": [
       "<div>\n",
       "<style scoped>\n",
       "    .dataframe tbody tr th:only-of-type {\n",
       "        vertical-align: middle;\n",
       "    }\n",
       "\n",
       "    .dataframe tbody tr th {\n",
       "        vertical-align: top;\n",
       "    }\n",
       "\n",
       "    .dataframe thead th {\n",
       "        text-align: right;\n",
       "    }\n",
       "</style>\n",
       "<table border=\"1\" class=\"dataframe\">\n",
       "  <thead>\n",
       "    <tr style=\"text-align: right;\">\n",
       "      <th></th>\n",
       "      <th>Age</th>\n",
       "      <th>Fare</th>\n",
       "    </tr>\n",
       "  </thead>\n",
       "  <tbody>\n",
       "    <tr>\n",
       "      <th>30</th>\n",
       "      <td>40.0</td>\n",
       "      <td>27.7208</td>\n",
       "    </tr>\n",
       "    <tr>\n",
       "      <th>10</th>\n",
       "      <td>4.0</td>\n",
       "      <td>16.7000</td>\n",
       "    </tr>\n",
       "    <tr>\n",
       "      <th>873</th>\n",
       "      <td>47.0</td>\n",
       "      <td>9.0000</td>\n",
       "    </tr>\n",
       "    <tr>\n",
       "      <th>182</th>\n",
       "      <td>9.0</td>\n",
       "      <td>31.3875</td>\n",
       "    </tr>\n",
       "    <tr>\n",
       "      <th>876</th>\n",
       "      <td>20.0</td>\n",
       "      <td>9.8458</td>\n",
       "    </tr>\n",
       "    <tr>\n",
       "      <th>...</th>\n",
       "      <td>...</td>\n",
       "      <td>...</td>\n",
       "    </tr>\n",
       "    <tr>\n",
       "      <th>534</th>\n",
       "      <td>30.0</td>\n",
       "      <td>8.6625</td>\n",
       "    </tr>\n",
       "    <tr>\n",
       "      <th>584</th>\n",
       "      <td>NaN</td>\n",
       "      <td>8.7125</td>\n",
       "    </tr>\n",
       "    <tr>\n",
       "      <th>493</th>\n",
       "      <td>71.0</td>\n",
       "      <td>49.5042</td>\n",
       "    </tr>\n",
       "    <tr>\n",
       "      <th>527</th>\n",
       "      <td>NaN</td>\n",
       "      <td>221.7792</td>\n",
       "    </tr>\n",
       "    <tr>\n",
       "      <th>168</th>\n",
       "      <td>NaN</td>\n",
       "      <td>25.9250</td>\n",
       "    </tr>\n",
       "  </tbody>\n",
       "</table>\n",
       "<p>712 rows × 2 columns</p>\n",
       "</div>"
      ],
      "text/plain": [
       "      Age      Fare\n",
       "30   40.0   27.7208\n",
       "10    4.0   16.7000\n",
       "873  47.0    9.0000\n",
       "182   9.0   31.3875\n",
       "876  20.0    9.8458\n",
       "..    ...       ...\n",
       "534  30.0    8.6625\n",
       "584   NaN    8.7125\n",
       "493  71.0   49.5042\n",
       "527   NaN  221.7792\n",
       "168   NaN   25.9250\n",
       "\n",
       "[712 rows x 2 columns]"
      ]
     },
     "execution_count": 19,
     "metadata": {},
     "output_type": "execute_result"
    }
   ],
   "source": [
    "X_train\n"
   ]
  },
  {
   "cell_type": "code",
   "execution_count": 21,
   "id": "8f77da8c-48e0-4f92-a9d0-d6ce52223e7e",
   "metadata": {},
   "outputs": [],
   "source": [
    "X_train['Age_imputed'] = X_train['Age']\n",
    "X_test['Age_imputed'] = X_test['Age']"
   ]
  },
  {
   "cell_type": "code",
   "execution_count": 45,
   "id": "9cbde25b-b074-4afc-9a09-72720a71a589",
   "metadata": {},
   "outputs": [],
   "source": [
    "X_train.loc[X_train['Age_imputed'].isnull(), 'Age_imputed'] = X_train['Age'].dropna().sample(\n",
    "    n=X_train['Age_imputed'].isnull().sum(),\n",
    "    replace=True\n",
    ").values\n",
    "\n",
    "X_test.loc[X_test['Age_imputed'].isnull(), 'Age_imputed'] = X_train['Age'].dropna().sample(\n",
    "    n=X_test['Age_imputed'].isnull().sum(),\n",
    "    replace=True\n",
    ").values"
   ]
  },
  {
   "cell_type": "code",
   "execution_count": 49,
   "id": "a93444db-46c2-48b3-b15e-25203e01bd79",
   "metadata": {},
   "outputs": [
    {
     "data": {
      "text/plain": [
       "array([29.  , 35.  , 23.  , 22.  , 17.  ,  9.  , 29.  , 58.  ,  4.  ,\n",
       "        4.  , 16.  , 18.  , 31.  , 30.  , 42.  , 25.  , 20.  , 40.  ,\n",
       "        7.  , 36.5 , 29.  ,  5.  , 16.  , 49.  , 30.  , 26.  , 41.  ,\n",
       "       44.  , 18.  , 24.  , 25.  , 22.  , 54.  , 14.  , 27.  ,  4.  ,\n",
       "       70.  , 51.  , 34.  , 19.  , 29.  , 24.  , 17.  , 35.  , 42.  ,\n",
       "       14.  , 22.  , 19.  , 42.  , 50.  , 29.  , 31.  , 11.  , 35.  ,\n",
       "       43.  , 26.  , 54.  , 24.  , 52.  , 39.  , 34.  ,  0.83, 30.  ,\n",
       "       19.  , 33.  , 24.  , 32.  , 30.  , 31.  , 27.  , 25.  , 31.  ,\n",
       "       31.  , 38.  , 45.  , 22.  , 16.  , 59.  , 26.  , 48.  , 37.  ,\n",
       "       32.  , 56.  , 13.  , 27.  ,  1.  , 61.  , 29.  , 36.  , 32.  ,\n",
       "       20.  , 32.  , 28.  , 14.  , 25.  , 12.  , 19.  ,  6.  , 27.  ,\n",
       "       21.  ,  8.  , 43.  , 29.  , 27.  , 34.  , 40.  ,  2.  , 25.  ,\n",
       "       35.  , 16.  , 24.  , 25.  , 18.  , 23.  , 26.  , 46.  , 20.  ,\n",
       "       23.  , 47.  , 13.  , 36.  , 22.  , 16.  , 18.  , 32.  , 19.  ,\n",
       "       36.  , 42.  , 39.  , 26.  , 14.  , 32.  , 64.  , 30.  , 48.  ,\n",
       "       21.  , 19.  , 22.  , 36.  ,  0.83, 25.  , 34.  , 60.  , 28.  ,\n",
       "       24.  , 19.  , 54.  , 32.5 ])"
      ]
     },
     "execution_count": 49,
     "metadata": {},
     "output_type": "execute_result"
    }
   ],
   "source": [
    "X_train['Age'].dropna().sample(X_train['Age'].isnull().sum()).values\n"
   ]
  },
  {
   "cell_type": "code",
   "execution_count": 51,
   "id": "eff3c9c9-d074-4ae5-b086-e849bde85880",
   "metadata": {},
   "outputs": [
    {
     "data": {
      "text/plain": [
       "148"
      ]
     },
     "execution_count": 51,
     "metadata": {},
     "output_type": "execute_result"
    }
   ],
   "source": [
    "X_train['Age'].isnull().sum()\n"
   ]
  },
  {
   "cell_type": "code",
   "execution_count": 55,
   "id": "da1799df-ef17-4e0b-b8ef-885feffb1977",
   "metadata": {},
   "outputs": [
    {
     "data": {
      "text/html": [
       "<div>\n",
       "<style scoped>\n",
       "    .dataframe tbody tr th:only-of-type {\n",
       "        vertical-align: middle;\n",
       "    }\n",
       "\n",
       "    .dataframe tbody tr th {\n",
       "        vertical-align: top;\n",
       "    }\n",
       "\n",
       "    .dataframe thead th {\n",
       "        text-align: right;\n",
       "    }\n",
       "</style>\n",
       "<table border=\"1\" class=\"dataframe\">\n",
       "  <thead>\n",
       "    <tr style=\"text-align: right;\">\n",
       "      <th></th>\n",
       "      <th>Age</th>\n",
       "      <th>Fare</th>\n",
       "      <th>Age_imputed</th>\n",
       "    </tr>\n",
       "  </thead>\n",
       "  <tbody>\n",
       "    <tr>\n",
       "      <th>30</th>\n",
       "      <td>40.0</td>\n",
       "      <td>27.7208</td>\n",
       "      <td>40.0</td>\n",
       "    </tr>\n",
       "    <tr>\n",
       "      <th>10</th>\n",
       "      <td>4.0</td>\n",
       "      <td>16.7000</td>\n",
       "      <td>4.0</td>\n",
       "    </tr>\n",
       "    <tr>\n",
       "      <th>873</th>\n",
       "      <td>47.0</td>\n",
       "      <td>9.0000</td>\n",
       "      <td>47.0</td>\n",
       "    </tr>\n",
       "    <tr>\n",
       "      <th>182</th>\n",
       "      <td>9.0</td>\n",
       "      <td>31.3875</td>\n",
       "      <td>9.0</td>\n",
       "    </tr>\n",
       "    <tr>\n",
       "      <th>876</th>\n",
       "      <td>20.0</td>\n",
       "      <td>9.8458</td>\n",
       "      <td>20.0</td>\n",
       "    </tr>\n",
       "    <tr>\n",
       "      <th>...</th>\n",
       "      <td>...</td>\n",
       "      <td>...</td>\n",
       "      <td>...</td>\n",
       "    </tr>\n",
       "    <tr>\n",
       "      <th>534</th>\n",
       "      <td>30.0</td>\n",
       "      <td>8.6625</td>\n",
       "      <td>30.0</td>\n",
       "    </tr>\n",
       "    <tr>\n",
       "      <th>584</th>\n",
       "      <td>NaN</td>\n",
       "      <td>8.7125</td>\n",
       "      <td>45.0</td>\n",
       "    </tr>\n",
       "    <tr>\n",
       "      <th>493</th>\n",
       "      <td>71.0</td>\n",
       "      <td>49.5042</td>\n",
       "      <td>71.0</td>\n",
       "    </tr>\n",
       "    <tr>\n",
       "      <th>527</th>\n",
       "      <td>NaN</td>\n",
       "      <td>221.7792</td>\n",
       "      <td>18.0</td>\n",
       "    </tr>\n",
       "    <tr>\n",
       "      <th>168</th>\n",
       "      <td>NaN</td>\n",
       "      <td>25.9250</td>\n",
       "      <td>48.0</td>\n",
       "    </tr>\n",
       "  </tbody>\n",
       "</table>\n",
       "<p>712 rows × 3 columns</p>\n",
       "</div>"
      ],
      "text/plain": [
       "      Age      Fare  Age_imputed\n",
       "30   40.0   27.7208         40.0\n",
       "10    4.0   16.7000          4.0\n",
       "873  47.0    9.0000         47.0\n",
       "182   9.0   31.3875          9.0\n",
       "876  20.0    9.8458         20.0\n",
       "..    ...       ...          ...\n",
       "534  30.0    8.6625         30.0\n",
       "584   NaN    8.7125         45.0\n",
       "493  71.0   49.5042         71.0\n",
       "527   NaN  221.7792         18.0\n",
       "168   NaN   25.9250         48.0\n",
       "\n",
       "[712 rows x 3 columns]"
      ]
     },
     "execution_count": 55,
     "metadata": {},
     "output_type": "execute_result"
    }
   ],
   "source": [
    "X_train"
   ]
  },
  {
   "cell_type": "code",
   "execution_count": 57,
   "id": "2a22b93d-51f6-4ce3-8498-b4fb5a14efda",
   "metadata": {},
   "outputs": [
    {
     "name": "stderr",
     "output_type": "stream",
     "text": [
      "C:\\Users\\HP\\AppData\\Local\\Temp\\ipykernel_12584\\4222035956.py:1: UserWarning: \n",
      "\n",
      "`distplot` is a deprecated function and will be removed in seaborn v0.14.0.\n",
      "\n",
      "Please adapt your code to use either `displot` (a figure-level function with\n",
      "similar flexibility) or `kdeplot` (an axes-level function for kernel density plots).\n",
      "\n",
      "For a guide to updating your code to use the new functions, please see\n",
      "https://gist.github.com/mwaskom/de44147ed2974457ad6372750bbe5751\n",
      "\n",
      "  sns.distplot(X_train['Age'],label='Original',hist=False)\n",
      "C:\\Users\\HP\\AppData\\Local\\Temp\\ipykernel_12584\\4222035956.py:2: UserWarning: \n",
      "\n",
      "`distplot` is a deprecated function and will be removed in seaborn v0.14.0.\n",
      "\n",
      "Please adapt your code to use either `displot` (a figure-level function with\n",
      "similar flexibility) or `kdeplot` (an axes-level function for kernel density plots).\n",
      "\n",
      "For a guide to updating your code to use the new functions, please see\n",
      "https://gist.github.com/mwaskom/de44147ed2974457ad6372750bbe5751\n",
      "\n",
      "  sns.distplot(X_train['Age_imputed'],label = 'Imputed',hist=False)\n"
     ]
    },
    {
     "data": {
      "image/png": "[encoded data removed]",
      "text/plain": [
       "<Figure size 640x480 with 1 Axes>"
      ]
     },
     "metadata": {},
     "output_type": "display_data"
    }
   ],
   "source": [
    "sns.distplot(X_train['Age'],label='Original',hist=False)\n",
    "sns.distplot(X_train['Age_imputed'],label = 'Imputed',hist=False)\n",
    "\n",
    "plt.legend()\n",
    "plt.show()\n"
   ]
  },
  {
   "cell_type": "code",
   "execution_count": 67,
   "id": "8b9b8f69-6332-482d-8648-9d8aecbb599b",
   "metadata": {},
   "outputs": [
    {
     "name": "stdout",
     "output_type": "stream",
     "text": [
      "Original variable variance:  204.3495133904614\n"
     ]
    }
   ],
   "source": [
    "# checking vareince\n",
    "print('Original variable variance: ', X_train['Age'].var())"
   ]
  },
  {
   "cell_type": "code",
   "execution_count": 69,
   "id": "57022124-74b5-4f87-a61f-c5ce18011d62",
   "metadata": {},
   "outputs": [
    {
     "name": "stdout",
     "output_type": "stream",
     "text": [
      "Variance after random imputation:  194.03907982348028\n"
     ]
    }
   ],
   "source": [
    "print('Variance after random imputation: ', X_train['Age_imputed'].var())\n"
   ]
  },
  {
   "cell_type": "code",
   "execution_count": 71,
   "id": "d16b9799-49f1-45b1-88ad-8a74565c4c1a",
   "metadata": {},
   "outputs": [
    {
     "data": {
      "text/html": [
       "<div>\n",
       "<style scoped>\n",
       "    .dataframe tbody tr th:only-of-type {\n",
       "        vertical-align: middle;\n",
       "    }\n",
       "\n",
       "    .dataframe tbody tr th {\n",
       "        vertical-align: top;\n",
       "    }\n",
       "\n",
       "    .dataframe thead th {\n",
       "        text-align: right;\n",
       "    }\n",
       "</style>\n",
       "<table border=\"1\" class=\"dataframe\">\n",
       "  <thead>\n",
       "    <tr style=\"text-align: right;\">\n",
       "      <th></th>\n",
       "      <th>Fare</th>\n",
       "      <th>Age</th>\n",
       "      <th>Age_imputed</th>\n",
       "    </tr>\n",
       "  </thead>\n",
       "  <tbody>\n",
       "    <tr>\n",
       "      <th>Fare</th>\n",
       "      <td>2377.272373</td>\n",
       "      <td>71.644209</td>\n",
       "      <td>52.130639</td>\n",
       "    </tr>\n",
       "    <tr>\n",
       "      <th>Age</th>\n",
       "      <td>71.644209</td>\n",
       "      <td>204.349513</td>\n",
       "      <td>204.349513</td>\n",
       "    </tr>\n",
       "    <tr>\n",
       "      <th>Age_imputed</th>\n",
       "      <td>52.130639</td>\n",
       "      <td>204.349513</td>\n",
       "      <td>194.039080</td>\n",
       "    </tr>\n",
       "  </tbody>\n",
       "</table>\n",
       "</div>"
      ],
      "text/plain": [
       "                    Fare         Age  Age_imputed\n",
       "Fare         2377.272373   71.644209    52.130639\n",
       "Age            71.644209  204.349513   204.349513\n",
       "Age_imputed    52.130639  204.349513   194.039080"
      ]
     },
     "execution_count": 71,
     "metadata": {},
     "output_type": "execute_result"
    }
   ],
   "source": [
    "X_train[['Fare', 'Age', 'Age_imputed']].cov()\n"
   ]
  },
  {
   "cell_type": "code",
   "execution_count": 73,
   "id": "c36762ed-57f6-41e5-88eb-8bdae1f2e689",
   "metadata": {},
   "outputs": [
    {
     "data": {
      "text/plain": [
       "<Axes: >"
      ]
     },
     "execution_count": 73,
     "metadata": {},
     "output_type": "execute_result"
    },
    {
     "data": {
      "image/png": "[encoded data removed]",
      "text/plain": [
       "<Figure size 640x480 with 1 Axes>"
      ]
     },
     "metadata": {},
     "output_type": "display_data"
    }
   ],
   "source": [
    "X_train[['Age', 'Age_imputed']].boxplot()\n"
   ]
  },
  {
   "cell_type": "code",
   "execution_count": 81,
   "id": "b5bdd428-22ff-4dd8-9b9d-3a49b1010e2c",
   "metadata": {},
   "outputs": [],
   "source": [
    "# use this code while production so the sample values wont change when two or more users are using same code\n",
    "# Assuming X_train is a DataFrame and you want to use the first row\n",
    "# observation = X_train.iloc[0]\n",
    "\n",
    "# sampled_value = X_train['Age'].dropna().sample(1, random_state=int(observation['Fare']))\n",
    "# print(sampled_value.values[0])  # Output the sampled age"
   ]
  },
  {
   "cell_type": "code",
   "execution_count": 169,
   "id": "b7bcaa65-9982-4026-b424-6b01038dccf6",
   "metadata": {},
   "outputs": [
    {
     "data": {
      "text/html": [
       "<div>\n",
       "<style scoped>\n",
       "    .dataframe tbody tr th:only-of-type {\n",
       "        vertical-align: middle;\n",
       "    }\n",
       "\n",
       "    .dataframe tbody tr th {\n",
       "        vertical-align: top;\n",
       "    }\n",
       "\n",
       "    .dataframe thead th {\n",
       "        text-align: right;\n",
       "    }\n",
       "</style>\n",
       "<table border=\"1\" class=\"dataframe\">\n",
       "  <thead>\n",
       "    <tr style=\"text-align: right;\">\n",
       "      <th></th>\n",
       "      <th>FireplaceQu</th>\n",
       "      <th>GarageQual</th>\n",
       "      <th>SalePrice</th>\n",
       "    </tr>\n",
       "  </thead>\n",
       "  <tbody>\n",
       "    <tr>\n",
       "      <th>0</th>\n",
       "      <td>NaN</td>\n",
       "      <td>TA</td>\n",
       "      <td>208500</td>\n",
       "    </tr>\n",
       "    <tr>\n",
       "      <th>1</th>\n",
       "      <td>TA</td>\n",
       "      <td>TA</td>\n",
       "      <td>181500</td>\n",
       "    </tr>\n",
       "    <tr>\n",
       "      <th>2</th>\n",
       "      <td>TA</td>\n",
       "      <td>TA</td>\n",
       "      <td>223500</td>\n",
       "    </tr>\n",
       "    <tr>\n",
       "      <th>3</th>\n",
       "      <td>Gd</td>\n",
       "      <td>TA</td>\n",
       "      <td>140000</td>\n",
       "    </tr>\n",
       "    <tr>\n",
       "      <th>4</th>\n",
       "      <td>TA</td>\n",
       "      <td>TA</td>\n",
       "      <td>250000</td>\n",
       "    </tr>\n",
       "  </tbody>\n",
       "</table>\n",
       "</div>"
      ],
      "text/plain": [
       "  FireplaceQu GarageQual  SalePrice\n",
       "0         NaN         TA     208500\n",
       "1          TA         TA     181500\n",
       "2          TA         TA     223500\n",
       "3          Gd         TA     140000\n",
       "4          TA         TA     250000"
      ]
     },
     "execution_count": 169,
     "metadata": {},
     "output_type": "execute_result"
    }
   ],
   "source": [
    "data = pd.read_csv('C:/Users/HP/Desktop/100 Days Machine learning/Csv.files/house-train.csv',usecols=['GarageQual','FireplaceQu', 'SalePrice'])\n",
    "data.head()"
   ]
  },
  {
   "cell_type": "code",
   "execution_count": 171,
   "id": "ca948b4b-6b58-43dc-a820-696b978c39f0",
   "metadata": {},
   "outputs": [
    {
     "data": {
      "text/plain": [
       "FireplaceQu    47.260274\n",
       "GarageQual      5.547945\n",
       "SalePrice       0.000000\n",
       "dtype: float64"
      ]
     },
     "execution_count": 171,
     "metadata": {},
     "output_type": "execute_result"
    }
   ],
   "source": [
    "data.isnull().mean()*100"
   ]
  },
  {
   "cell_type": "code",
   "execution_count": 173,
   "id": "1db9eb9b-5ca9-4c0a-aa4f-848e1117d957",
   "metadata": {},
   "outputs": [],
   "source": [
    "X = data\n",
    "y = data['SalePrice']"
   ]
  },
  {
   "cell_type": "code",
   "execution_count": 175,
   "id": "6bec7f3e-e62b-4c88-a023-2d381a3ab879",
   "metadata": {},
   "outputs": [],
   "source": [
    "X_train,X_test,y_train,y_test = train_test_split(X,y,test_size=0.2,random_state=2)\n"
   ]
  },
  {
   "cell_type": "code",
   "execution_count": 177,
   "id": "bc4d3a86-d96c-498e-b693-3931d91bee37",
   "metadata": {},
   "outputs": [],
   "source": [
    "X_train['GarageQual_imputed'] = X_train['GarageQual']\n",
    "X_test['GarageQual_imputed'] = X_test['GarageQual']\n",
    "\n",
    "X_train['FireplaceQu_imputed'] = X_train['FireplaceQu']\n",
    "X_test['FireplaceQu_imputed'] = X_test['FireplaceQu']"
   ]
  },
  {
   "cell_type": "code",
   "execution_count": 179,
   "id": "a9fe84bf-0c8a-471c-b482-88707b4b91e0",
   "metadata": {},
   "outputs": [
    {
     "data": {
      "text/html": [
       "<div>\n",
       "<style scoped>\n",
       "    .dataframe tbody tr th:only-of-type {\n",
       "        vertical-align: middle;\n",
       "    }\n",
       "\n",
       "    .dataframe tbody tr th {\n",
       "        vertical-align: top;\n",
       "    }\n",
       "\n",
       "    .dataframe thead th {\n",
       "        text-align: right;\n",
       "    }\n",
       "</style>\n",
       "<table border=\"1\" class=\"dataframe\">\n",
       "  <thead>\n",
       "    <tr style=\"text-align: right;\">\n",
       "      <th></th>\n",
       "      <th>FireplaceQu</th>\n",
       "      <th>GarageQual</th>\n",
       "      <th>SalePrice</th>\n",
       "      <th>GarageQual_imputed</th>\n",
       "      <th>FireplaceQu_imputed</th>\n",
       "    </tr>\n",
       "  </thead>\n",
       "  <tbody>\n",
       "    <tr>\n",
       "      <th>178</th>\n",
       "      <td>Gd</td>\n",
       "      <td>TA</td>\n",
       "      <td>501837</td>\n",
       "      <td>TA</td>\n",
       "      <td>Gd</td>\n",
       "    </tr>\n",
       "    <tr>\n",
       "      <th>457</th>\n",
       "      <td>Gd</td>\n",
       "      <td>TA</td>\n",
       "      <td>256000</td>\n",
       "      <td>TA</td>\n",
       "      <td>Gd</td>\n",
       "    </tr>\n",
       "    <tr>\n",
       "      <th>694</th>\n",
       "      <td>NaN</td>\n",
       "      <td>TA</td>\n",
       "      <td>141500</td>\n",
       "      <td>TA</td>\n",
       "      <td>NaN</td>\n",
       "    </tr>\n",
       "    <tr>\n",
       "      <th>588</th>\n",
       "      <td>Gd</td>\n",
       "      <td>TA</td>\n",
       "      <td>143000</td>\n",
       "      <td>TA</td>\n",
       "      <td>Gd</td>\n",
       "    </tr>\n",
       "    <tr>\n",
       "      <th>1107</th>\n",
       "      <td>Gd</td>\n",
       "      <td>TA</td>\n",
       "      <td>274725</td>\n",
       "      <td>TA</td>\n",
       "      <td>Gd</td>\n",
       "    </tr>\n",
       "  </tbody>\n",
       "</table>\n",
       "</div>"
      ],
      "text/plain": [
       "     FireplaceQu GarageQual  SalePrice GarageQual_imputed FireplaceQu_imputed\n",
       "178           Gd         TA     501837                 TA                  Gd\n",
       "457           Gd         TA     256000                 TA                  Gd\n",
       "694          NaN         TA     141500                 TA                 NaN\n",
       "588           Gd         TA     143000                 TA                  Gd\n",
       "1107          Gd         TA     274725                 TA                  Gd"
      ]
     },
     "execution_count": 179,
     "metadata": {},
     "output_type": "execute_result"
    }
   ],
   "source": [
    "X_train.sample(5)\n"
   ]
  },
  {
   "cell_type": "code",
   "execution_count": 181,
   "id": "5c8e77a7-6b5d-4269-8f26-5f85d319395f",
   "metadata": {},
   "outputs": [
    {
     "name": "stderr",
     "output_type": "stream",
     "text": [
      "C:\\Users\\HP\\AppData\\Local\\Temp\\ipykernel_12584\\613679808.py:1: FutureWarning: ChainedAssignmentError: behaviour will change in pandas 3.0!\n",
      "You are setting values through chained assignment. Currently this works in certain cases, but when using Copy-on-Write (which will become the default behaviour in pandas 3.0) this will never work to update the original DataFrame or Series, because the intermediate object on which we are setting values will behave as a copy.\n",
      "A typical example is when you are setting values in a column of a DataFrame, like:\n",
      "\n",
      "df[\"col\"][row_indexer] = value\n",
      "\n",
      "Use `df.loc[row_indexer, \"col\"] = values` instead, to perform the assignment in a single step and ensure this keeps updating the original `df`.\n",
      "\n",
      "See the caveats in the documentation: https://pandas.pydata.org/pandas-docs/stable/user_guide/indexing.html#returning-a-view-versus-a-copy\n",
      "\n",
      "  X_train['GarageQual_imputed'][X_train['GarageQual_imputed'].isnull()] = X_train['GarageQual'].dropna().sample(X_train['GarageQual'].isnull().sum()).values\n",
      "C:\\Users\\HP\\AppData\\Local\\Temp\\ipykernel_12584\\613679808.py:1: SettingWithCopyWarning: \n",
      "A value is trying to be set on a copy of a slice from a DataFrame\n",
      "\n",
      "See the caveats in the documentation: https://pandas.pydata.org/pandas-docs/stable/user_guide/indexing.html#returning-a-view-versus-a-copy\n",
      "  X_train['GarageQual_imputed'][X_train['GarageQual_imputed'].isnull()] = X_train['GarageQual'].dropna().sample(X_train['GarageQual'].isnull().sum()).values\n",
      "C:\\Users\\HP\\AppData\\Local\\Temp\\ipykernel_12584\\613679808.py:2: FutureWarning: ChainedAssignmentError: behaviour will change in pandas 3.0!\n",
      "You are setting values through chained assignment. Currently this works in certain cases, but when using Copy-on-Write (which will become the default behaviour in pandas 3.0) this will never work to update the original DataFrame or Series, because the intermediate object on which we are setting values will behave as a copy.\n",
      "A typical example is when you are setting values in a column of a DataFrame, like:\n",
      "\n",
      "df[\"col\"][row_indexer] = value\n",
      "\n",
      "Use `df.loc[row_indexer, \"col\"] = values` instead, to perform the assignment in a single step and ensure this keeps updating the original `df`.\n",
      "\n",
      "See the caveats in the documentation: https://pandas.pydata.org/pandas-docs/stable/user_guide/indexing.html#returning-a-view-versus-a-copy\n",
      "\n",
      "  X_test['GarageQual_imputed'][X_test['GarageQual_imputed'].isnull()] = X_train['GarageQual'].dropna().sample(X_test['GarageQual'].isnull().sum()).values\n",
      "C:\\Users\\HP\\AppData\\Local\\Temp\\ipykernel_12584\\613679808.py:2: SettingWithCopyWarning: \n",
      "A value is trying to be set on a copy of a slice from a DataFrame\n",
      "\n",
      "See the caveats in the documentation: https://pandas.pydata.org/pandas-docs/stable/user_guide/indexing.html#returning-a-view-versus-a-copy\n",
      "  X_test['GarageQual_imputed'][X_test['GarageQual_imputed'].isnull()] = X_train['GarageQual'].dropna().sample(X_test['GarageQual'].isnull().sum()).values\n",
      "C:\\Users\\HP\\AppData\\Local\\Temp\\ipykernel_12584\\613679808.py:4: FutureWarning: ChainedAssignmentError: behaviour will change in pandas 3.0!\n",
      "You are setting values through chained assignment. Currently this works in certain cases, but when using Copy-on-Write (which will become the default behaviour in pandas 3.0) this will never work to update the original DataFrame or Series, because the intermediate object on which we are setting values will behave as a copy.\n",
      "A typical example is when you are setting values in a column of a DataFrame, like:\n",
      "\n",
      "df[\"col\"][row_indexer] = value\n",
      "\n",
      "Use `df.loc[row_indexer, \"col\"] = values` instead, to perform the assignment in a single step and ensure this keeps updating the original `df`.\n",
      "\n",
      "See the caveats in the documentation: https://pandas.pydata.org/pandas-docs/stable/user_guide/indexing.html#returning-a-view-versus-a-copy\n",
      "\n",
      "  X_train['FireplaceQu_imputed'][X_train['FireplaceQu_imputed'].isnull()] = X_train['FireplaceQu'].dropna().sample(X_train['FireplaceQu'].isnull().sum()).values\n",
      "C:\\Users\\HP\\AppData\\Local\\Temp\\ipykernel_12584\\613679808.py:4: SettingWithCopyWarning: \n",
      "A value is trying to be set on a copy of a slice from a DataFrame\n",
      "\n",
      "See the caveats in the documentation: https://pandas.pydata.org/pandas-docs/stable/user_guide/indexing.html#returning-a-view-versus-a-copy\n",
      "  X_train['FireplaceQu_imputed'][X_train['FireplaceQu_imputed'].isnull()] = X_train['FireplaceQu'].dropna().sample(X_train['FireplaceQu'].isnull().sum()).values\n",
      "C:\\Users\\HP\\AppData\\Local\\Temp\\ipykernel_12584\\613679808.py:5: FutureWarning: ChainedAssignmentError: behaviour will change in pandas 3.0!\n",
      "You are setting values through chained assignment. Currently this works in certain cases, but when using Copy-on-Write (which will become the default behaviour in pandas 3.0) this will never work to update the original DataFrame or Series, because the intermediate object on which we are setting values will behave as a copy.\n",
      "A typical example is when you are setting values in a column of a DataFrame, like:\n",
      "\n",
      "df[\"col\"][row_indexer] = value\n",
      "\n",
      "Use `df.loc[row_indexer, \"col\"] = values` instead, to perform the assignment in a single step and ensure this keeps updating the original `df`.\n",
      "\n",
      "See the caveats in the documentation: https://pandas.pydata.org/pandas-docs/stable/user_guide/indexing.html#returning-a-view-versus-a-copy\n",
      "\n",
      "  X_test['FireplaceQu_imputed'][X_test['FireplaceQu_imputed'].isnull()] = X_train['FireplaceQu'].dropna().sample(X_test['FireplaceQu'].isnull().sum()).values\n",
      "C:\\Users\\HP\\AppData\\Local\\Temp\\ipykernel_12584\\613679808.py:5: SettingWithCopyWarning: \n",
      "A value is trying to be set on a copy of a slice from a DataFrame\n",
      "\n",
      "See the caveats in the documentation: https://pandas.pydata.org/pandas-docs/stable/user_guide/indexing.html#returning-a-view-versus-a-copy\n",
      "  X_test['FireplaceQu_imputed'][X_test['FireplaceQu_imputed'].isnull()] = X_train['FireplaceQu'].dropna().sample(X_test['FireplaceQu'].isnull().sum()).values\n"
     ]
    }
   ],
   "source": [
    "X_train['GarageQual_imputed'][X_train['GarageQual_imputed'].isnull()] = X_train['GarageQual'].dropna().sample(X_train['GarageQual'].isnull().sum()).values\n",
    "X_test['GarageQual_imputed'][X_test['GarageQual_imputed'].isnull()] = X_train['GarageQual'].dropna().sample(X_test['GarageQual'].isnull().sum()).values\n",
    "\n",
    "X_train['FireplaceQu_imputed'][X_train['FireplaceQu_imputed'].isnull()] = X_train['FireplaceQu'].dropna().sample(X_train['FireplaceQu'].isnull().sum()).values\n",
    "X_test['FireplaceQu_imputed'][X_test['FireplaceQu_imputed'].isnull()] = X_train['FireplaceQu'].dropna().sample(X_test['FireplaceQu'].isnull().sum()).values\n"
   ]
  },
  {
   "cell_type": "code",
   "execution_count": 187,
   "id": "14edb904-f06a-40c9-9117-52782e34e95f",
   "metadata": {},
   "outputs": [],
   "source": [
    "temp = pd.concat(\n",
    "        [\n",
    "            X_train['GarageQual'].value_counts() / len(X_train['GarageQual'].dropna()),\n",
    "            X_train['GarageQual_imputed'].value_counts() / len(X_train)\n",
    "        ],\n",
    "        axis=1)\n",
    "\n",
    "temp.columns = ['original', 'imputed']\n",
    "\n",
    "\n"
   ]
  },
  {
   "cell_type": "code",
   "execution_count": 189,
   "id": "03ad75d3-293b-4e1a-b0b9-07752cf38efa",
   "metadata": {},
   "outputs": [
    {
     "data": {
      "text/html": [
       "<div>\n",
       "<style scoped>\n",
       "    .dataframe tbody tr th:only-of-type {\n",
       "        vertical-align: middle;\n",
       "    }\n",
       "\n",
       "    .dataframe tbody tr th {\n",
       "        vertical-align: top;\n",
       "    }\n",
       "\n",
       "    .dataframe thead th {\n",
       "        text-align: right;\n",
       "    }\n",
       "</style>\n",
       "<table border=\"1\" class=\"dataframe\">\n",
       "  <thead>\n",
       "    <tr style=\"text-align: right;\">\n",
       "      <th></th>\n",
       "      <th>original</th>\n",
       "      <th>imputed</th>\n",
       "    </tr>\n",
       "  </thead>\n",
       "  <tbody>\n",
       "    <tr>\n",
       "      <th>TA</th>\n",
       "      <td>0.951043</td>\n",
       "      <td>0.949486</td>\n",
       "    </tr>\n",
       "    <tr>\n",
       "      <th>Fa</th>\n",
       "      <td>0.037171</td>\n",
       "      <td>0.039384</td>\n",
       "    </tr>\n",
       "    <tr>\n",
       "      <th>Gd</th>\n",
       "      <td>0.009973</td>\n",
       "      <td>0.009418</td>\n",
       "    </tr>\n",
       "    <tr>\n",
       "      <th>Po</th>\n",
       "      <td>0.000907</td>\n",
       "      <td>0.000856</td>\n",
       "    </tr>\n",
       "    <tr>\n",
       "      <th>Ex</th>\n",
       "      <td>0.000907</td>\n",
       "      <td>0.000856</td>\n",
       "    </tr>\n",
       "  </tbody>\n",
       "</table>\n",
       "</div>"
      ],
      "text/plain": [
       "    original   imputed\n",
       "TA  0.951043  0.949486\n",
       "Fa  0.037171  0.039384\n",
       "Gd  0.009973  0.009418\n",
       "Po  0.000907  0.000856\n",
       "Ex  0.000907  0.000856"
      ]
     },
     "execution_count": 189,
     "metadata": {},
     "output_type": "execute_result"
    }
   ],
   "source": [
    "temp"
   ]
  },
  {
   "cell_type": "code",
   "execution_count": 191,
   "id": "49d7c98b-dadb-49d4-89f8-9032dbc606b7",
   "metadata": {},
   "outputs": [
    {
     "data": {
      "text/html": [
       "<div>\n",
       "<style scoped>\n",
       "    .dataframe tbody tr th:only-of-type {\n",
       "        vertical-align: middle;\n",
       "    }\n",
       "\n",
       "    .dataframe tbody tr th {\n",
       "        vertical-align: top;\n",
       "    }\n",
       "\n",
       "    .dataframe thead th {\n",
       "        text-align: right;\n",
       "    }\n",
       "</style>\n",
       "<table border=\"1\" class=\"dataframe\">\n",
       "  <thead>\n",
       "    <tr style=\"text-align: right;\">\n",
       "      <th></th>\n",
       "      <th>original</th>\n",
       "      <th>imputed</th>\n",
       "    </tr>\n",
       "  </thead>\n",
       "  <tbody>\n",
       "    <tr>\n",
       "      <th>Gd</th>\n",
       "      <td>0.494272</td>\n",
       "      <td>0.657688</td>\n",
       "    </tr>\n",
       "    <tr>\n",
       "      <th>TA</th>\n",
       "      <td>0.412439</td>\n",
       "      <td>0.534231</td>\n",
       "    </tr>\n",
       "    <tr>\n",
       "      <th>Fa</th>\n",
       "      <td>0.040917</td>\n",
       "      <td>0.049383</td>\n",
       "    </tr>\n",
       "    <tr>\n",
       "      <th>Po</th>\n",
       "      <td>0.027823</td>\n",
       "      <td>0.035915</td>\n",
       "    </tr>\n",
       "    <tr>\n",
       "      <th>Ex</th>\n",
       "      <td>0.024550</td>\n",
       "      <td>0.033670</td>\n",
       "    </tr>\n",
       "  </tbody>\n",
       "</table>\n",
       "</div>"
      ],
      "text/plain": [
       "    original   imputed\n",
       "Gd  0.494272  0.657688\n",
       "TA  0.412439  0.534231\n",
       "Fa  0.040917  0.049383\n",
       "Po  0.027823  0.035915\n",
       "Ex  0.024550  0.033670"
      ]
     },
     "execution_count": 191,
     "metadata": {},
     "output_type": "execute_result"
    }
   ],
   "source": [
    "temp = pd.concat(\n",
    "        [\n",
    "            X_train['FireplaceQu'].value_counts() / len(X_train['FireplaceQu'].dropna()),\n",
    "            X_train['FireplaceQu_imputed'].value_counts() / len(df)\n",
    "        ],\n",
    "        axis=1)\n",
    "\n",
    "temp.columns = ['original', 'imputed']\n",
    "\n",
    "temp"
   ]
  },
  {
   "cell_type": "code",
   "execution_count": 193,
   "id": "f394da46-9995-461b-906c-dd3db2243691",
   "metadata": {},
   "outputs": [
    {
     "name": "stderr",
     "output_type": "stream",
     "text": [
      "C:\\Users\\HP\\AppData\\Local\\Temp\\ipykernel_12584\\1827688635.py:2: UserWarning: \n",
      "\n",
      "`distplot` is a deprecated function and will be removed in seaborn v0.14.0.\n",
      "\n",
      "Please adapt your code to use either `displot` (a figure-level function with\n",
      "similar flexibility) or `kdeplot` (an axes-level function for kernel density plots).\n",
      "\n",
      "For a guide to updating your code to use the new functions, please see\n",
      "https://gist.github.com/mwaskom/de44147ed2974457ad6372750bbe5751\n",
      "\n",
      "  sns.distplot(X_train[X_train['FireplaceQu'] == category]['SalePrice'],hist=False,label=category)\n",
      "C:\\Users\\HP\\AppData\\Local\\Temp\\ipykernel_12584\\1827688635.py:2: UserWarning: \n",
      "\n",
      "`distplot` is a deprecated function and will be removed in seaborn v0.14.0.\n",
      "\n",
      "Please adapt your code to use either `displot` (a figure-level function with\n",
      "similar flexibility) or `kdeplot` (an axes-level function for kernel density plots).\n",
      "\n",
      "For a guide to updating your code to use the new functions, please see\n",
      "https://gist.github.com/mwaskom/de44147ed2974457ad6372750bbe5751\n",
      "\n",
      "  sns.distplot(X_train[X_train['FireplaceQu'] == category]['SalePrice'],hist=False,label=category)\n",
      "C:\\Users\\HP\\AppData\\Local\\Temp\\ipykernel_12584\\1827688635.py:2: UserWarning: \n",
      "\n",
      "`distplot` is a deprecated function and will be removed in seaborn v0.14.0.\n",
      "\n",
      "Please adapt your code to use either `displot` (a figure-level function with\n",
      "similar flexibility) or `kdeplot` (an axes-level function for kernel density plots).\n",
      "\n",
      "For a guide to updating your code to use the new functions, please see\n",
      "https://gist.github.com/mwaskom/de44147ed2974457ad6372750bbe5751\n",
      "\n",
      "  sns.distplot(X_train[X_train['FireplaceQu'] == category]['SalePrice'],hist=False,label=category)\n",
      "C:\\Users\\HP\\AppData\\Local\\Temp\\ipykernel_12584\\1827688635.py:2: UserWarning: \n",
      "\n",
      "`distplot` is a deprecated function and will be removed in seaborn v0.14.0.\n",
      "\n",
      "Please adapt your code to use either `displot` (a figure-level function with\n",
      "similar flexibility) or `kdeplot` (an axes-level function for kernel density plots).\n",
      "\n",
      "For a guide to updating your code to use the new functions, please see\n",
      "https://gist.github.com/mwaskom/de44147ed2974457ad6372750bbe5751\n",
      "\n",
      "  sns.distplot(X_train[X_train['FireplaceQu'] == category]['SalePrice'],hist=False,label=category)\n",
      "C:\\Users\\HP\\AppData\\Local\\Temp\\ipykernel_12584\\1827688635.py:2: UserWarning: \n",
      "\n",
      "`distplot` is a deprecated function and will be removed in seaborn v0.14.0.\n",
      "\n",
      "Please adapt your code to use either `displot` (a figure-level function with\n",
      "similar flexibility) or `kdeplot` (an axes-level function for kernel density plots).\n",
      "\n",
      "For a guide to updating your code to use the new functions, please see\n",
      "https://gist.github.com/mwaskom/de44147ed2974457ad6372750bbe5751\n",
      "\n",
      "  sns.distplot(X_train[X_train['FireplaceQu'] == category]['SalePrice'],hist=False,label=category)\n"
     ]
    },
    {
     "data": {
      "image/png": "[encoded data removed]",
      "text/plain": [
       "<Figure size 640x480 with 1 Axes>"
      ]
     },
     "metadata": {},
     "output_type": "display_data"
    }
   ],
   "source": [
    "for category in X_train['FireplaceQu'].dropna().unique():\n",
    "    sns.distplot(X_train[X_train['FireplaceQu'] == category]['SalePrice'],hist=False,label=category)\n",
    "plt.show()"
   ]
  },
  {
   "cell_type": "code",
   "execution_count": 195,
   "id": "f3fbbc9e-1e76-421b-901f-dc7fe094f1f7",
   "metadata": {},
   "outputs": [
    {
     "name": "stderr",
     "output_type": "stream",
     "text": [
      "C:\\Users\\HP\\AppData\\Local\\Temp\\ipykernel_12584\\722808554.py:2: UserWarning: \n",
      "\n",
      "`distplot` is a deprecated function and will be removed in seaborn v0.14.0.\n",
      "\n",
      "Please adapt your code to use either `displot` (a figure-level function with\n",
      "similar flexibility) or `kdeplot` (an axes-level function for kernel density plots).\n",
      "\n",
      "For a guide to updating your code to use the new functions, please see\n",
      "https://gist.github.com/mwaskom/de44147ed2974457ad6372750bbe5751\n",
      "\n",
      "  sns.distplot(X_train[X_train['FireplaceQu_imputed'] == category]['SalePrice'],hist=False,label=category)\n",
      "C:\\Users\\HP\\AppData\\Local\\Temp\\ipykernel_12584\\722808554.py:2: UserWarning: \n",
      "\n",
      "`distplot` is a deprecated function and will be removed in seaborn v0.14.0.\n",
      "\n",
      "Please adapt your code to use either `displot` (a figure-level function with\n",
      "similar flexibility) or `kdeplot` (an axes-level function for kernel density plots).\n",
      "\n",
      "For a guide to updating your code to use the new functions, please see\n",
      "https://gist.github.com/mwaskom/de44147ed2974457ad6372750bbe5751\n",
      "\n",
      "  sns.distplot(X_train[X_train['FireplaceQu_imputed'] == category]['SalePrice'],hist=False,label=category)\n",
      "C:\\Users\\HP\\AppData\\Local\\Temp\\ipykernel_12584\\722808554.py:2: UserWarning: \n",
      "\n",
      "`distplot` is a deprecated function and will be removed in seaborn v0.14.0.\n",
      "\n",
      "Please adapt your code to use either `displot` (a figure-level function with\n",
      "similar flexibility) or `kdeplot` (an axes-level function for kernel density plots).\n",
      "\n",
      "For a guide to updating your code to use the new functions, please see\n",
      "https://gist.github.com/mwaskom/de44147ed2974457ad6372750bbe5751\n",
      "\n",
      "  sns.distplot(X_train[X_train['FireplaceQu_imputed'] == category]['SalePrice'],hist=False,label=category)\n",
      "C:\\Users\\HP\\AppData\\Local\\Temp\\ipykernel_12584\\722808554.py:2: UserWarning: \n",
      "\n",
      "`distplot` is a deprecated function and will be removed in seaborn v0.14.0.\n",
      "\n",
      "Please adapt your code to use either `displot` (a figure-level function with\n",
      "similar flexibility) or `kdeplot` (an axes-level function for kernel density plots).\n",
      "\n",
      "For a guide to updating your code to use the new functions, please see\n",
      "https://gist.github.com/mwaskom/de44147ed2974457ad6372750bbe5751\n",
      "\n",
      "  sns.distplot(X_train[X_train['FireplaceQu_imputed'] == category]['SalePrice'],hist=False,label=category)\n",
      "C:\\Users\\HP\\AppData\\Local\\Temp\\ipykernel_12584\\722808554.py:2: UserWarning: \n",
      "\n",
      "`distplot` is a deprecated function and will be removed in seaborn v0.14.0.\n",
      "\n",
      "Please adapt your code to use either `displot` (a figure-level function with\n",
      "similar flexibility) or `kdeplot` (an axes-level function for kernel density plots).\n",
      "\n",
      "For a guide to updating your code to use the new functions, please see\n",
      "https://gist.github.com/mwaskom/de44147ed2974457ad6372750bbe5751\n",
      "\n",
      "  sns.distplot(X_train[X_train['FireplaceQu_imputed'] == category]['SalePrice'],hist=False,label=category)\n"
     ]
    },
    {
     "data": {
      "image/png": "[encoded data removed]",
      "text/plain": [
       "<Figure size 640x480 with 1 Axes>"
      ]
     },
     "metadata": {},
     "output_type": "display_data"
    }
   ],
   "source": [
    "for category in X_train['FireplaceQu_imputed'].dropna().unique():\n",
    "    sns.distplot(X_train[X_train['FireplaceQu_imputed'] == category]['SalePrice'],hist=False,label=category)\n",
    "plt.show()"
   ]
  },
  {
   "cell_type": "code",
   "execution_count": null,
   "id": "a0a85b79-33a6-4a45-b131-5e8eadfb5b32",
   "metadata": {},
   "outputs": [],
   "source": []
  }
 ],
 "metadata": {
  "kernelspec": {
   "display_name": "Python 3 (ipykernel)",
   "language": "python",
   "name": "python3"
  },
  "language_info": {
   "codemirror_mode": {
    "name": "ipython",
    "version": 3
   },
   "file_extension": ".py",
   "mimetype": "text/x-python",
   "name": "python",
   "nbconvert_exporter": "python",
   "pygments_lexer": "ipython3",
   "version": "3.12.7"
  }
 },
 "nbformat": 4,
 "nbformat_minor": 5
}
